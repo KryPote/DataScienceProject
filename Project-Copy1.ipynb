{
 "cells": [
  {
   "cell_type": "markdown",
   "metadata": {},
   "source": [
    "# FINAL PROJECT\n",
    "\n",
    "<h2>Created by</h2>\n",
    "<h3>Krystian Potępa</h3>\n",
    "<h3>136100</h3>"
   ]
  },
  {
   "cell_type": "code",
   "execution_count": 1,
   "metadata": {},
   "outputs": [],
   "source": [
    "import numpy as np\n",
    "import scipy as sp\n",
    "import pandas as pd\n",
    "import statistics as st\n",
    "import matplotlib.pyplot as plt\n",
    "import cx_Oracle"
   ]
  },
  {
   "cell_type": "markdown",
   "metadata": {},
   "source": [
    "| Column | Description |\n",
    "| :--- | :--- |\n",
    "| `Numer` | The name of the pokemon |\n",
    "| `Typ_1` | The type of the pokemon we will use |\n",
    "| `Typ_2` | Later generations were using dual types, we won't be using this here |\n",
    "| `Total` | The sum of all stat columns |\n",
    "| `HP`, `Atak`, `Obrona`, `Sp_Atk`, `Sp_Obr`, `Speed` | Pokemon stats |\n",
    "| `Generation` | When was this pokemon introduced |\n",
    "| `Legendary` | Is the pokemon a Legendary pokemon |"
   ]
  },
  {
   "cell_type": "code",
   "execution_count": 2,
   "metadata": {},
   "outputs": [
    {
     "name": "stdout",
     "output_type": "stream",
     "text": [
      "  Jeden  Dwa\n",
      "0   Uno  Dos\n"
     ]
    }
   ],
   "source": [
    "data = pd.read_csv('test.csv', delimiter= ',')\n",
    "df = pd.DataFrame(data, columns= ['Jeden','Dwa'])\n",
    "print(df)"
   ]
  },
  {
   "cell_type": "code",
   "execution_count": 3,
   "metadata": {},
   "outputs": [],
   "source": [
    "lib_dir = r\"C:\\Users\\KrystianPC\\Desktop\\plikiDLL\" #Potrzebne biblioteki do cx_Oracle\n",
    "#https://drive.google.com/file/d/1WjzlgHRjVw4CEvkIW0icZB5HnUpBGq1W/view?usp=sharing - do pobrania, bo nie mieszczą się na gicie\n",
    "try:\n",
    "    cx_Oracle.init_oracle_client(lib_dir=lib_dir)\n",
    "except Exception as err:\n",
    "    print(\"Error connecting: cx_Oracle.init_oracle_client()\")\n",
    "    print(err);\n",
    "    sys.exit(1);\n"
   ]
  },
  {
   "cell_type": "code",
   "execution_count": 4,
   "metadata": {
    "scrolled": true
   },
   "outputs": [
    {
     "name": "stdout",
     "output_type": "stream",
     "text": [
      "Łączenie z bazą\n",
      "Połączono\n"
     ]
    }
   ],
   "source": [
    "%run connection.ipynb"
   ]
  },
  {
   "cell_type": "code",
   "execution_count": 5,
   "metadata": {},
   "outputs": [
    {
     "data": {
      "text/plain": [
       "'Dos'"
      ]
     },
     "execution_count": 5,
     "metadata": {},
     "output_type": "execute_result"
    }
   ],
   "source": [
    "#c.execute('select * from POKEMON')\n",
    "df.iloc[0,0]\n",
    "df.iloc[0,1]"
   ]
  },
  {
   "cell_type": "code",
   "execution_count": 6,
   "metadata": {},
   "outputs": [],
   "source": [
    "#c.execute(\"BEGIN EXECUTE IMMEDIATE 'DROP TABLE TEST'; EXCEPTION WHEN OTHERS THEN NULL; END;\")\n",
    "\n",
    "#Usuwanie tabeli, jeżeli istnieje"
   ]
  },
  {
   "cell_type": "code",
   "execution_count": 7,
   "metadata": {},
   "outputs": [],
   "source": [
    "#c.execute(\"Create TABLE TEST(Jeden varchar(50),Dwa varchar(50))\")"
   ]
  },
  {
   "cell_type": "code",
   "execution_count": 8,
   "metadata": {},
   "outputs": [],
   "source": [
    "for i in range(len(df.Jeden)):\n",
    "    c.execute(\"Insert into test(jeden, dwa) values ('\"+str(df.iloc[i,0])+\"','\"+str(df.iloc[i,1])+\"')\")\n",
    "    conn.commit()"
   ]
  },
  {
   "cell_type": "code",
   "execution_count": null,
   "metadata": {},
   "outputs": [],
   "source": []
  },
  {
   "cell_type": "code",
   "execution_count": 9,
   "metadata": {},
   "outputs": [],
   "source": [
    "c.close()\n",
    "conn.close()"
   ]
  }
 ],
 "metadata": {
  "kernelspec": {
   "display_name": "Python 3",
   "language": "python",
   "name": "python3"
  },
  "language_info": {
   "codemirror_mode": {
    "name": "ipython",
    "version": 3
   },
   "file_extension": ".py",
   "mimetype": "text/x-python",
   "name": "python",
   "nbconvert_exporter": "python",
   "pygments_lexer": "ipython3",
   "version": "3.8.3"
  }
 },
 "nbformat": 4,
 "nbformat_minor": 4
}
