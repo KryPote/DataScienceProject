{
 "cells": [
  {
   "cell_type": "markdown",
   "metadata": {},
   "source": [
    "# FINAL PROJECT\n",
    "\n",
    "<h2>Created by</h2>\n",
    "<h3>Krystian Potępa</h3>\n",
    "<h3>136100</h3>"
   ]
  },
  {
   "cell_type": "code",
   "execution_count": 1,
   "metadata": {},
   "outputs": [],
   "source": [
    "import numpy as np\n",
    "import scipy as sp\n",
    "import pandas as pd\n",
    "import statistics as st\n",
    "import matplotlib.pyplot as plt\n",
    "import cx_Oracle"
   ]
  },
  {
   "cell_type": "markdown",
   "metadata": {},
   "source": [
    "| Column | Description |\n",
    "| :--- | :--- |\n",
    "| `Numer` | The name of the pokemon |\n",
    "| `Typ_1` | The type of the pokemon we will use |\n",
    "| `Typ_2` | Later generations were using dual types, we won't be using this here |\n",
    "| `Total` | The sum of all stat columns |\n",
    "| `HP`, `Atak`, `Obrona`, `Sp_Atk`, `Sp_Obr`, `Speed` | Pokemon stats |\n",
    "| `Generation` | When was this pokemon introduced |\n",
    "| `Legendary` | Is the pokemon a Legendary pokemon |"
   ]
  },
  {
   "cell_type": "code",
   "execution_count": 2,
   "metadata": {},
   "outputs": [
    {
     "name": "stdout",
     "output_type": "stream",
     "text": [
      "     Numer                  Nazwa  Typ1  Typ2  Total  HP  Atak  Obrona  SpAtk  \\\n",
      "0        1              Bulbasaur   NaN   NaN    318  45    49      49    NaN   \n",
      "1        2                Ivysaur   NaN   NaN    405  60    62      63    NaN   \n",
      "2        3               Venusaur   NaN   NaN    525  80    82      83    NaN   \n",
      "3        3  VenusaurMega Venusaur   NaN   NaN    625  80   100     123    NaN   \n",
      "4        4             Charmander   NaN   NaN    309  39    52      43    NaN   \n",
      "..     ...                    ...   ...   ...    ...  ..   ...     ...    ...   \n",
      "795    719                Diancie   NaN   NaN    600  50   100     150    NaN   \n",
      "796    719    DiancieMega Diancie   NaN   NaN    700  50   160     110    NaN   \n",
      "797    720    HoopaHoopa Confined   NaN   NaN    600  80   110      60    NaN   \n",
      "798    720     HoopaHoopa Unbound   NaN   NaN    680  80   160      60    NaN   \n",
      "799    721              Volcanion   NaN   NaN    600  80   110     120    NaN   \n",
      "\n",
      "     SpObr  Speed  Generation  Legendary  \n",
      "0      NaN     45           1      False  \n",
      "1      NaN     60           1      False  \n",
      "2      NaN     80           1      False  \n",
      "3      NaN     80           1      False  \n",
      "4      NaN     65           1      False  \n",
      "..     ...    ...         ...        ...  \n",
      "795    NaN     50           6       True  \n",
      "796    NaN    110           6       True  \n",
      "797    NaN     70           6       True  \n",
      "798    NaN     80           6       True  \n",
      "799    NaN     70           6       True  \n",
      "\n",
      "[800 rows x 13 columns]\n"
     ]
    }
   ],
   "source": [
    "data = pd.read_csv('pokemon.csv')\n",
    "df = pd.DataFrame(data, columns= ['Numer','Nazwa','Typ1','Typ2','Total','HP','Atak','Obrona','SpAtk','SpObr','Speed','Generation','Legendary'])\n",
    "print(df)"
   ]
  },
  {
   "cell_type": "code",
   "execution_count": 3,
   "metadata": {},
   "outputs": [],
   "source": [
    "lib_dir = r\"C:\\Users\\KrystianPC\\Desktop\\plikiDLL\" #Potrzebne biblioteki do cx_Oracle\n",
    "#https://drive.google.com/file/d/1WjzlgHRjVw4CEvkIW0icZB5HnUpBGq1W/view?usp=sharing - do pobrania, bo nie mieszczą się na gicie\n",
    "try:\n",
    "    cx_Oracle.init_oracle_client(lib_dir=lib_dir)\n",
    "except Exception as err:\n",
    "    print(\"Error connecting: cx_Oracle.init_oracle_client()\")\n",
    "    print(err);\n",
    "    sys.exit(1);\n"
   ]
  },
  {
   "cell_type": "code",
   "execution_count": 4,
   "metadata": {
    "scrolled": true
   },
   "outputs": [
    {
     "name": "stdout",
     "output_type": "stream",
     "text": [
      "Połączono\n"
     ]
    }
   ],
   "source": [
    "#%run connection.ipynb\n",
    "dsn_tns = cx_Oracle.makedsn('213.184.8.44', '1521', service_name='orac')\n",
    "conn = cx_Oracle.connect(user=r'potepa', password='ludzik96', dsn=dsn_tns)\n",
    "c = conn.cursor()\n",
    "print ('Połączono')"
   ]
  },
  {
   "cell_type": "code",
   "execution_count": 5,
   "metadata": {},
   "outputs": [],
   "source": [
    "#c.execute('select * from POKEMON')"
   ]
  },
  {
   "cell_type": "code",
   "execution_count": 6,
   "metadata": {},
   "outputs": [],
   "source": [
    "c.execute(\"BEGIN EXECUTE IMMEDIATE 'DROP TABLE POKEMON'; EXCEPTION WHEN OTHERS THEN NULL; END;\")\n",
    "\n",
    "#Usuwanie tabeli, jeżeli istnieje"
   ]
  },
  {
   "cell_type": "code",
   "execution_count": 7,
   "metadata": {},
   "outputs": [],
   "source": [
    "c.execute(\"Create TABLE pokemon(Numer int primary key,Nazwa varchar(50),Typ1 varchar(50),Typ2 varchar(50),Total int,HP int,Atak int ,Obrona int,SpAtk int ,SpObr int,Speed int ,Generation int ,Legendary varchar(50))\")"
   ]
  },
  {
   "cell_type": "code",
   "execution_count": 8,
   "metadata": {},
   "outputs": [
    {
     "ename": "DatabaseError",
     "evalue": "ORA-01036: illegal variable name/number",
     "output_type": "error",
     "traceback": [
      "\u001b[1;31m---------------------------------------------------------------------------\u001b[0m",
      "\u001b[1;31mDatabaseError\u001b[0m                             Traceback (most recent call last)",
      "\u001b[1;32m<ipython-input-8-094ccef7516f>\u001b[0m in \u001b[0;36m<module>\u001b[1;34m\u001b[0m\n\u001b[0;32m      1\u001b[0m \u001b[1;32mfor\u001b[0m \u001b[0mrow\u001b[0m \u001b[1;32min\u001b[0m \u001b[0mdf\u001b[0m\u001b[1;33m.\u001b[0m\u001b[0mitertuples\u001b[0m\u001b[1;33m(\u001b[0m\u001b[1;33m)\u001b[0m\u001b[1;33m:\u001b[0m\u001b[1;33m\u001b[0m\u001b[1;33m\u001b[0m\u001b[0m\n\u001b[1;32m----> 2\u001b[1;33m     c.execute('''\n\u001b[0m\u001b[0;32m      3\u001b[0m                 \u001b[0mINSERT\u001b[0m \u001b[0mINTO\u001b[0m \u001b[0mBazyiZrodlaDanych\u001b[0m\u001b[1;33m.\u001b[0m\u001b[0mPOKEMON\u001b[0m \u001b[1;33m(\u001b[0m\u001b[0mNumer\u001b[0m\u001b[1;33m,\u001b[0m\u001b[0mNazwa\u001b[0m\u001b[1;33m,\u001b[0m\u001b[0mTyp1\u001b[0m\u001b[1;33m,\u001b[0m\u001b[0mTyp2\u001b[0m\u001b[1;33m,\u001b[0m\u001b[0mTotal\u001b[0m\u001b[1;33m,\u001b[0m\u001b[0mHP\u001b[0m\u001b[1;33m,\u001b[0m\u001b[0mAtak\u001b[0m\u001b[1;33m,\u001b[0m\u001b[0mObrona\u001b[0m\u001b[1;33m,\u001b[0m\u001b[0mSp_Atk\u001b[0m\u001b[1;33m,\u001b[0m\u001b[0mSp_Obr\u001b[0m\u001b[1;33m,\u001b[0m\u001b[0mSpeed\u001b[0m\u001b[1;33m,\u001b[0m\u001b[0mGeneration\u001b[0m\u001b[1;33m,\u001b[0m\u001b[0mLegendary\u001b[0m\u001b[1;33m)\u001b[0m\u001b[1;33m\u001b[0m\u001b[1;33m\u001b[0m\u001b[0m\n\u001b[0;32m      4\u001b[0m                 \u001b[0mVALUES\u001b[0m \u001b[1;33m(\u001b[0m\u001b[0;31m?\u001b[0m\u001b[1;33m,\u001b[0m\u001b[0;31m?\u001b[0m\u001b[1;33m)\u001b[0m\u001b[1;33m\u001b[0m\u001b[1;33m\u001b[0m\u001b[0m\n\u001b[0;32m      5\u001b[0m                 ''',\n",
      "\u001b[1;31mDatabaseError\u001b[0m: ORA-01036: illegal variable name/number"
     ]
    }
   ],
   "source": [
    "for row in df.itertuples():\n",
    "    c.execute('''\n",
    "                INSERT INTO BazyiZrodlaDanych.POKEMON (Numer,Nazwa,Typ1,Typ2,Total,HP,Atak,Obrona,SpAtk,SpObr,Speed,Generation,Legendary)\n",
    "                VALUES (?,?)\n",
    "                ''',\n",
    "                (row.Numer, \n",
    "                row.Nazwa,\n",
    "                row.Typ1,\n",
    "                row.Typ2,\n",
    "                row.Total,\n",
    "                row.HP,\n",
    "                row.Atak,\n",
    "                row.Obrona,\n",
    "                row.SpAtk,\n",
    "                row.SpObr,\n",
    "                row.Speed,\n",
    "                row.Generation,\n",
    "                row.Legendary\n",
    "                )\n",
    "                )\n",
    "conn.commit()"
   ]
  },
  {
   "cell_type": "code",
   "execution_count": null,
   "metadata": {},
   "outputs": [],
   "source": [
    "c.execute(\"select * from POKEMON order by Numer\")\n",
    "for pokemons in c.fetchall():\n",
    "        print(pokemons)"
   ]
  },
  {
   "cell_type": "code",
   "execution_count": null,
   "metadata": {},
   "outputs": [],
   "source": [
    "c.close()\n",
    "conn.close()"
   ]
  }
 ],
 "metadata": {
  "kernelspec": {
   "display_name": "Python 3",
   "language": "python",
   "name": "python3"
  },
  "language_info": {
   "codemirror_mode": {
    "name": "ipython",
    "version": 3
   },
   "file_extension": ".py",
   "mimetype": "text/x-python",
   "name": "python",
   "nbconvert_exporter": "python",
   "pygments_lexer": "ipython3",
   "version": "3.8.3"
  }
 },
 "nbformat": 4,
 "nbformat_minor": 4
}
