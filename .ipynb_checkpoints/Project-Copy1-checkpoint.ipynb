{
 "cells": [
  {
   "cell_type": "markdown",
   "metadata": {},
   "source": [
    "# FINAL PROJECT\n",
    "\n",
    "<h2>Created by</h2>\n",
    "<h3>Krystian Potępa</h3>\n",
    "<h3>136100</h3>"
   ]
  },
  {
   "cell_type": "code",
   "execution_count": 1,
   "metadata": {},
   "outputs": [],
   "source": [
    "import numpy as np\n",
    "import scipy as sp\n",
    "import pandas as pd\n",
    "import statistics as st\n",
    "import matplotlib.pyplot as plt\n",
    "import cx_Oracle"
   ]
  },
  {
   "cell_type": "markdown",
   "metadata": {},
   "source": [
    "| Column | Description |\n",
    "| :--- | :--- |\n",
    "| `Numer` | The name of the pokemon |\n",
    "| `Typ_1` | The type of the pokemon we will use |\n",
    "| `Typ_2` | Later generations were using dual types, we won't be using this here |\n",
    "| `Total` | The sum of all stat columns |\n",
    "| `HP`, `Atak`, `Obrona`, `Sp_Atk`, `Sp_Obr`, `Speed` | Pokemon stats |\n",
    "| `Generation` | When was this pokemon introduced |\n",
    "| `Legendary` | Is the pokemon a Legendary pokemon |"
   ]
  },
  {
   "cell_type": "code",
   "execution_count": 2,
   "metadata": {},
   "outputs": [
    {
     "name": "stdout",
     "output_type": "stream",
     "text": [
      "     Numer                  Nazwa  Typ  Generation  Legendary\n",
      "0        1              Bulbasaur  NaN           1      False\n",
      "1        2                Ivysaur  NaN           1      False\n",
      "2        3               Venusaur  NaN           1      False\n",
      "3        3  VenusaurMega Venusaur  NaN           1      False\n",
      "4        4             Charmander  NaN           1      False\n",
      "..     ...                    ...  ...         ...        ...\n",
      "795    719                Diancie  NaN           6       True\n",
      "796    719    DiancieMega Diancie  NaN           6       True\n",
      "797    720    HoopaHoopa Confined  NaN           6       True\n",
      "798    720     HoopaHoopa Unbound  NaN           6       True\n",
      "799    721              Volcanion  NaN           6       True\n",
      "\n",
      "[800 rows x 5 columns]\n"
     ]
    }
   ],
   "source": [
    "data = pd.read_csv('pokemon.csv', delimiter= ',')\n",
    "df = pd.DataFrame(data, columns= ['Numer','Nazwa','Typ','Generation','Legendary'])\n",
    "print(df)"
   ]
  },
  {
   "cell_type": "code",
   "execution_count": 3,
   "metadata": {},
   "outputs": [],
   "source": [
    "lib_dir = r\"C:\\Users\\KrystianPC\\Desktop\\plikiDLL\" #Potrzebne biblioteki do cx_Oracle\n",
    "#https://drive.google.com/file/d/1WjzlgHRjVw4CEvkIW0icZB5HnUpBGq1W/view?usp=sharing - do pobrania, bo nie mieszczą się na gicie\n",
    "try:\n",
    "    cx_Oracle.init_oracle_client(lib_dir=lib_dir)\n",
    "except Exception as err:\n",
    "    print(\"Error connecting: cx_Oracle.init_oracle_client()\")\n",
    "    print(err);\n",
    "    sys.exit(1);\n"
   ]
  },
  {
   "cell_type": "code",
   "execution_count": 4,
   "metadata": {
    "scrolled": true
   },
   "outputs": [
    {
     "name": "stdout",
     "output_type": "stream",
     "text": [
      "Łączenie z bazą\n",
      "Połączono\n"
     ]
    }
   ],
   "source": [
    "%run connection.ipynb"
   ]
  },
  {
   "cell_type": "code",
   "execution_count": 5,
   "metadata": {},
   "outputs": [],
   "source": [
    "#c.execute('select * from POKEMON')"
   ]
  },
  {
   "cell_type": "code",
   "execution_count": 6,
   "metadata": {},
   "outputs": [],
   "source": [
    "c.execute(\"BEGIN EXECUTE IMMEDIATE 'DROP TABLE POKEMON'; EXCEPTION WHEN OTHERS THEN NULL; END;\")\n",
    "\n",
    "#Usuwanie tabeli, jeżeli istnieje"
   ]
  },
  {
   "cell_type": "code",
   "execution_count": 7,
   "metadata": {},
   "outputs": [],
   "source": [
    "c.execute(\"Create TABLE pokemon(Numer int,Nazwa varchar(50),Typ varchar(50),Generation int ,Legendary varchar(50))\")"
   ]
  },
  {
   "cell_type": "code",
   "execution_count": 8,
   "metadata": {},
   "outputs": [
    {
     "ename": "NameError",
     "evalue": "name 'Numer' is not defined",
     "output_type": "error",
     "traceback": [
      "\u001b[1;31m---------------------------------------------------------------------------\u001b[0m",
      "\u001b[1;31mNameError\u001b[0m                                 Traceback (most recent call last)",
      "\u001b[1;32m<ipython-input-8-e02dfbefdcaf>\u001b[0m in \u001b[0;36m<module>\u001b[1;34m\u001b[0m\n\u001b[0;32m      5\u001b[0m                 ''',\n\u001b[0;32m      6\u001b[0m                 (\n\u001b[1;32m----> 7\u001b[1;33m                 \u001b[0mNumer\u001b[0m\u001b[1;33m,\u001b[0m\u001b[1;33m\u001b[0m\u001b[1;33m\u001b[0m\u001b[0m\n\u001b[0m\u001b[0;32m      8\u001b[0m                 \u001b[0mNazwa\u001b[0m\u001b[1;33m,\u001b[0m\u001b[1;33m\u001b[0m\u001b[1;33m\u001b[0m\u001b[0m\n\u001b[0;32m      9\u001b[0m                 \u001b[0mTyp\u001b[0m\u001b[1;33m,\u001b[0m\u001b[1;33m\u001b[0m\u001b[1;33m\u001b[0m\u001b[0m\n",
      "\u001b[1;31mNameError\u001b[0m: name 'Numer' is not defined"
     ]
    }
   ],
   "source": [
    "for row in df.itertuples():\n",
    "    c.execute('''\n",
    "                INSERT INTO POKEMON (Numer,Nazwa,Typ,Generation,Legendary)\n",
    "                VALUES (?,?)\n",
    "                ''',\n",
    "                (\n",
    "                Numer, \n",
    "                Nazwa,\n",
    "                Typ,\n",
    "                Generation,\n",
    "                Legendary\n",
    "                )\n",
    "                )\n",
    "                \n",
    "conn.commit()"
   ]
  },
  {
   "cell_type": "code",
   "execution_count": null,
   "metadata": {},
   "outputs": [],
   "source": [
    "c.execute(\"select * from POKEMON order by Numer\")\n",
    "for pokemons in c.fetchall():\n",
    "        print(pokemons)"
   ]
  },
  {
   "cell_type": "code",
   "execution_count": null,
   "metadata": {},
   "outputs": [],
   "source": [
    "c.close()\n",
    "conn.close()"
   ]
  }
 ],
 "metadata": {
  "kernelspec": {
   "display_name": "Python 3",
   "language": "python",
   "name": "python3"
  },
  "language_info": {
   "codemirror_mode": {
    "name": "ipython",
    "version": 3
   },
   "file_extension": ".py",
   "mimetype": "text/x-python",
   "name": "python",
   "nbconvert_exporter": "python",
   "pygments_lexer": "ipython3",
   "version": "3.8.3"
  }
 },
 "nbformat": 4,
 "nbformat_minor": 4
}
